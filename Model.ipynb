{
 "cells": [
  {
   "cell_type": "raw",
   "metadata": {},
   "source": [
    "Sentimental Analyzer\n",
    "\n",
    "Importing all modules\n"
   ]
  },
  {
   "cell_type": "code",
   "execution_count": 1,
   "metadata": {},
   "outputs": [],
   "source": [
    "import re\n",
    "import nltk\n",
    "from nltk.corpus import brown\n",
    "import pandas as pd\n",
    "\n",
    "from sklearn.ensemble import RandomForestClassifier\n",
    "from sklearn.feature_extraction.text import TfidfVectorizer\n",
    "\n",
    "from sklearn.model_selection import train_test_split\n",
    "\n",
    "from collections import Counter\n",
    "\n",
    "pstemmer = nltk.PorterStemmer()\n",
    "\n",
    "%matplotlib inline\n",
    "import matplotlib.pyplot as plt\n",
    "\n",
    "from IPython.display import display"
   ]
  },
  {
   "cell_type": "code",
   "execution_count": 2,
   "metadata": {},
   "outputs": [
    {
     "data": {
      "text/plain": [
       "\"The triple cameras on the iPhone 11 Pro Max now give Apple the best camera phone, thanks to its great Night mode and improved Smart HDR,a huge improvement in battery life Up to 20 hours video playback; up to 12 hours video streaming ... Apple's slow-motion selfies are fun at 120 fps. Apple has given the Pro moniker to the iPhones for the first time. Everything is improved and everything feels better. It comes with a new Lightning to USB Cable with 5W USB Power Adapter. With Display of 6.5-inch Super Retina XDR display with HDR,True Tone, Splash, Water, and Dust Resistant, Water-resistant to a depth of 4 meters for up to 30 minutes (IP68)), Triple 12MP cameras (Ultra Wide, Wide, Telephoto) with Portrait mode, Night mode, Auto Adjustments, next-generation Smart HDR and 4K video up to 60 fps with extended dynamic range.\""
      ]
     },
     "execution_count": 2,
     "metadata": {},
     "output_type": "execute_result"
    }
   ],
   "source": [
    "df = pd.read_csv(\"data.csv\") #reading from file\n",
    "colmn = df.content   #column which have reviews\n",
    "\n",
    "dictofdata={}\n",
    "i=0\n",
    "for data in colmn:\n",
    "    dictofdata[i]=data\n",
    "    i+=1\n",
    "dictofdata[10] #checking"
   ]
  },
  {
   "cell_type": "code",
   "execution_count": 3,
   "metadata": {},
   "outputs": [
    {
     "data": {
      "text/plain": [
       "['switch on and off button is not working',\n",
       " 'looks like given used phone in new box']"
      ]
     },
     "execution_count": 3,
     "metadata": {},
     "output_type": "execute_result"
    }
   ],
   "source": [
    "#Normalize Data\n",
    "normalizedData = {}\n",
    "keys = dictofdata.keys()\n",
    "\n",
    "for key in keys:\n",
    "    review = dictofdata[key]\n",
    "    review_as_list_of_sentences = []\n",
    "    \n",
    "    for sentence in re.split(r'[.,:;!]', review):\n",
    "        if sentence:\n",
    "            sentence = ' '.join([word.lower().strip() for word in sentence.split()])\n",
    "            review_as_list_of_sentences.append(sentence)\n",
    "            \n",
    "    normalizedData[key] = review_as_list_of_sentences\n",
    "\n",
    "normalizedData[29]"
   ]
  },
  {
   "cell_type": "code",
   "execution_count": 4,
   "metadata": {},
   "outputs": [],
   "source": [
    "# Building backoff tagger for the review data, with specific added training set for 'not'\n",
    "\n",
    "def build_backoff_tagger_trigram (train_sents):\n",
    "    t0 = nltk.DefaultTagger(\"NN\")\n",
    "    t1 = nltk.UnigramTagger(train_sents, backoff = t0)\n",
    "    t2 = nltk.BigramTagger(train_sents, backoff=t1)\n",
    "    t3 = nltk.TrigramTagger(train_sents, backoff=t2)\n",
    "    return t3\n",
    "\n",
    "sample_sents = brown.tagged_sents(categories=['news', 'editorial', 'reviews'])\n",
    "\n",
    "addTrainingset = [[('The', 'AT'),  ('battery', 'NN'),  ('is', 'BEZ'),  ('not', 'RB'), ('working', 'VBG'),  ('well', 'RB'), ('.','.')],\n",
    "                  [('Fast', 'NN'),  ('shipping', 'VBG'),  ('and', 'CC'),  ('everything', 'PN'),  ('however', 'CC'),  ('after', 'IN'),  ('about', 'RB'),  ('two', 'CD'),  ('months', 'NNS'),  ('of', 'IN'),  ('using', 'VBG'),  ('the', 'AT'),  ('phones', 'NNS'), ('white', 'JJ'),  ('lines', 'NNS'),  ('appeared', 'VBD'),  ('on', 'IN'), ('it', 'IN'), ('.','.')],\n",
    "                  [('The', 'AT'),  ('battery', 'NN'),  ('is', 'BEZ'),  ('not', 'RB'), ('working', 'VBG'),  ('well', 'RB'), ('.','.')],\n",
    "                  [('After', 'IN'),  ('less', 'AP'),  ('than', 'IN'),  ('six', 'CD'),  ('months', 'NNS'),  ('the', 'AT'),  ('screen', 'NN'), ('is', 'BEZ'),  ('not', 'RB'),  ('working', 'VBG')],\n",
    "                  [('It', 'PPS'),  ('not', 'RB'),  ('original', 'JJ'),  ('I', 'PPSS'),  ('guess', 'VB')],\n",
    "                  [('It', 'PPS'),  ('not', 'RB'),  ('original', 'JJ'),  ('I', 'PPSS'),  ('guess', 'VB')],\n",
    "                  [('It', 'PPS'),  ('not', 'RB'),  ('original', 'JJ'),  ('I', 'PPSS'),  ('guess', 'VB')],\n",
    "                  [('not', 'RB')]\n",
    "]\n",
    "\n",
    "#Training the tagger\n",
    "ngram_tagger = build_backoff_tagger_trigram(sample_sents + addTrainingset + addTrainingset + addTrainingset + addTrainingset)"
   ]
  },
  {
   "cell_type": "code",
   "execution_count": 5,
   "metadata": {},
   "outputs": [],
   "source": [
    "\n",
    "tagged_dictionaryData = {}\n",
    "keys = normalizedData.keys()\n",
    "\n",
    "for key in keys:\n",
    "    data = normalizedData[key]\n",
    "    \n",
    "    temp = []\n",
    "    \n",
    "    for sentence in data:\n",
    "        x = ngram_tagger.tag(nltk.word_tokenize(sentence))\n",
    "        temp.append(x)\n",
    "        \n",
    "    tagged_dictionaryData[key] = temp\n",
    "    \n",
    "#tagged_dictionaryData[1]"
   ]
  },
  {
   "cell_type": "code",
   "execution_count": 75,
   "metadata": {},
   "outputs": [],
   "source": [
    "#Adding some force tags\n",
    "force_tags = {'not': 'RB', 'however' : 'CC', 'but' : 'CC'}\n",
    "keys = tagged_dictionaryData.keys()\n",
    "\n",
    "for key in keys:\n",
    "    review = tagged_dictionaryData[key]\n",
    "    temp_review = []\n",
    "    for sentence in review:\n",
    "        if sentence:\n",
    "            sentence = [(word, force_tags.get(word, tag)) for word, tag in sentence]\n",
    "            temp_review.append(sentence)\n",
    "            \n",
    "    tagged_dictionaryData[key] = temp_review\n",
    "    \n",
    "    \n",
    "#tagged_dictionaryData[20]"
   ]
  },
  {
   "cell_type": "code",
   "execution_count": 6,
   "metadata": {},
   "outputs": [],
   "source": [
    "#Removing stop words\n",
    "\n",
    "keys = tagged_dictionaryData.keys()\n",
    "\n",
    "splitData = {}\n",
    "\n",
    "for key in keys:\n",
    "    reviewData = tagged_dictionaryData[key]\n",
    "    reviewDataList = []\n",
    "\n",
    "    for sentence in reviewData:\n",
    "        temp = []\n",
    "        for word, tag in sentence:\n",
    "            if tag != 'CC':\n",
    "                temp.append(word)\n",
    "\n",
    "            else :\n",
    "                if temp:\n",
    "                    sent = ' '.join(temp)\n",
    "                    reviewDataList.append(sent)\n",
    "                    temp = []\n",
    "\n",
    "        #Adding the final temp\n",
    "        sent = ' '.join(temp)\n",
    "        reviewDataList.append(sent)\n",
    "        splitData[key] = reviewDataList\n",
    "        \n",
    "#splitData[20]"
   ]
  },
  {
   "cell_type": "code",
   "execution_count": 7,
   "metadata": {},
   "outputs": [],
   "source": [
    "features={'back': ['processor', 'button', 'camera', 'android', 'back', 'phone', 'nice', 'screen', 'device', 'processor', 'time', 'light', 'first', 'smart', 'cell', 'work', 'great', 'i', 'charger', 'best', 'feature', 'case', 'protector', 'small', 'system', 'lock', 'longer', 'good'], 'battery': ['charge', 'year', 'button', 'phone', 'device', 'life', 'processor', 'time', 'experience', 'battery', 'light', 'first', 'month', 'few', 'cell', 'day', 'work', 'great', 'charger', 'week', 'hour', 'lock'], 'box': ['apple', 'phone', 'original', 'model', 'product', 'great', 'box', 'button', 'glass', 'cell', 'case', 'lock', 'good'], 'button': ['display', 'button', 'camera', 'android', 'price', 'back', 'phone', 'original', 'device', 'computer', 'store', 'life', 'processor', 'time', 'last', 'a', 'battery', 'apple', 'light', 'first', 'condition', 'box', 'cell', 'so', 'inch', 'way', 'deal', 'work', 'product', 'charger', 'same', 'thing', 'lock', 'good'], 'camera': ['processor', 'button', 'camera', 'android', 'back', 'phone', 'nice', 'screen', 'device', 'processor', 'time', 'light', 'first', 'smart', 'cell', 'work', 'great', 'i', 'charger', 'best', 'feature', 'case', 'protector', 'small', 'system', 'lock', 'longer', 'good'], 'cell': ['processor', 'button', 'camera', 'android', 'back', 'phone', 'original', 'nice', 'device', 'life', 'processor', 'battery', 'light', 'quality', 'smart', 'box', 'headphone', 'cell', 'work', 'great', 'i', 'charger', 'best', 'sound', 'lock', 'good'], 'charger': ['apple', 'phone', 'light', 'work', 'device', 'display', 'computer', 'lock', 'charger', 'button', 'camera', 'life', 'processor', 'cell', 'store', 'inch', 'back', 'last', 'battery'], 'connection': ['device', 'connection', 'service', 'delivery', 'seller', 'fast', 'internet', 'system', 'hardware'], 'device': ['charge', 'display', 'button', 'camera', 'glass', 'android', 'back', 'phone', 'device', 'computer', 'screen', 'store', 'life', 'processor', 'time', 'last', 'hardware', 'battery', 'brand', 'apple', 'light', 'first', 'cell', 'design', 'inch', 'hand', 'work', 'connection', 'charger', 'internet', 'system', 'protector', 'lock', 'longer'], 'display': ['light', 'model', 'screen', 'display', 'device', 'charger', 'button', 'processor', 'protector', 'inch', 'lock', 'longer'], 'hardware': ['apple', 'accessory', 'device', 'connection', 'processor', 'store', 'internet', 'system', 'hardware'], 'headphone': ['phone', 'smart', 'nice', 'work', 'great', 'i', 'headphone', 'best', 'cell', 'android', 'good'],  'light': ['perfect', 'display', 'button', 'camera', 'back', 'phone', 'device', 'computer', 'store', 'life', 'processor', 'carrier', 'last', 'battery', 'order', 'apple', 'light', 'condition', 'cell', 'inch', 'way', 'work', 'great', 'charger', 'lock', 'good'], 'phone': ['bad', 'charge', 'processor', 'review', 'button', 'serial', 'camera', 'android', 'use', 'price', 'back', 'phone', 'original', 'nice', 'star', 'device', 'buy', 'life', 'processor', 'time', 'last', 'a', 'experience', 'number', 'battery', 'apple', 'light', 'quality', 'smart', 'condition', 'first', 'box', 'headphone', 'service', 'cell', 'issue', 'so', 'better', 'music', 'couple', 'much', 'way', 'deal', 'work', 'one', 'product', 'great', 'i', 'charger', 'best', 'same', 'thing', 'sound', 'lock', 'feature', 'good'], 'processor': ['apple', 'phone', 'smart', 'nice', 'work', 'great', 'i', 'processor', 'manufacturer', 'best', 'store', 'cell', 'camera', 'android', 'carrier', 'back', 'hardware', 'good'], 'system': ['hardware', 'device', 'connection', 'camera', 'internet', 'design', 'system', 'small', 'back', 'feature']}"
   ]
  },
  {
   "cell_type": "code",
   "execution_count": 8,
   "metadata": {},
   "outputs": [
    {
     "name": "stdout",
     "output_type": "stream",
     "text": [
      "the triple cameras on the iphone 11 pro max now give apple the best camera phone\n",
      "night mode is better than any available camera\n",
      "optical zoom in camera is still 2x\n",
      "the camera\n",
      "4k video recording support on front camera is an additional bonus\n"
     ]
    }
   ],
   "source": [
    "\n",
    "# Ca\n",
    "\n",
    "reviews_perFeature = {}\n",
    "for review_id in splitData:\n",
    "       review_phrases = splitData[review_id]\n",
    "       for phrase in review_phrases:\n",
    "           phrase_words = phrase.split(' ')\n",
    "           set1 = set(phrase_words)\n",
    "           for term in features:\n",
    "               set2 = set([term])\n",
    "               result = set1.intersection(set2)\n",
    "               if result:\n",
    "                   if term in reviews_perFeature: \n",
    "                       reviews_perFeature[term].append(phrase)\n",
    "                   else:\n",
    "                       reviews_perFeature[term] = [phrase]\n",
    "                        \n",
    "for i in range(5):\n",
    "    print(reviews_perFeature['camera'][i])"
   ]
  },
  {
   "cell_type": "code",
   "execution_count": 9,
   "metadata": {},
   "outputs": [
    {
     "data": {
      "text/html": [
       "<div>\n",
       "<style scoped>\n",
       "    .dataframe tbody tr th:only-of-type {\n",
       "        vertical-align: middle;\n",
       "    }\n",
       "\n",
       "    .dataframe tbody tr th {\n",
       "        vertical-align: top;\n",
       "    }\n",
       "\n",
       "    .dataframe thead th {\n",
       "        text-align: right;\n",
       "    }\n",
       "</style>\n",
       "<table border=\"1\" class=\"dataframe\">\n",
       "  <thead>\n",
       "    <tr style=\"text-align: right;\">\n",
       "      <th></th>\n",
       "      <th>Text</th>\n",
       "    </tr>\n",
       "  </thead>\n",
       "  <tbody>\n",
       "    <tr>\n",
       "      <th>0</th>\n",
       "      <td>a huge improvement in battery life up to 20 ho...</td>\n",
       "    </tr>\n",
       "    <tr>\n",
       "      <th>1</th>\n",
       "      <td>battery life</td>\n",
       "    </tr>\n",
       "    <tr>\n",
       "      <th>2</th>\n",
       "      <td>a huge improvement in battery life up to 20 ho...</td>\n",
       "    </tr>\n",
       "    <tr>\n",
       "      <th>3</th>\n",
       "      <td>battery life</td>\n",
       "    </tr>\n",
       "    <tr>\n",
       "      <th>4</th>\n",
       "      <td>a huge improvement in battery life up to 20 ho...</td>\n",
       "    </tr>\n",
       "    <tr>\n",
       "      <th>5</th>\n",
       "      <td>battery life</td>\n",
       "    </tr>\n",
       "    <tr>\n",
       "      <th>6</th>\n",
       "      <td>a huge improvement in battery life up to 20 ho...</td>\n",
       "    </tr>\n",
       "    <tr>\n",
       "      <th>7</th>\n",
       "      <td>battery life</td>\n",
       "    </tr>\n",
       "    <tr>\n",
       "      <th>8</th>\n",
       "      <td>a huge improvement in battery life up to 20 ho...</td>\n",
       "    </tr>\n",
       "    <tr>\n",
       "      <th>9</th>\n",
       "      <td>battery life</td>\n",
       "    </tr>\n",
       "    <tr>\n",
       "      <th>10</th>\n",
       "      <td>a huge improvement in battery life up to 20 ho...</td>\n",
       "    </tr>\n",
       "    <tr>\n",
       "      <th>11</th>\n",
       "      <td>battery life</td>\n",
       "    </tr>\n",
       "    <tr>\n",
       "      <th>12</th>\n",
       "      <td>a huge improvement in battery life up to 20 ho...</td>\n",
       "    </tr>\n",
       "    <tr>\n",
       "      <th>13</th>\n",
       "      <td>battery life</td>\n",
       "    </tr>\n",
       "    <tr>\n",
       "      <th>14</th>\n",
       "      <td>a huge improvement in battery life up to 20 ho...</td>\n",
       "    </tr>\n",
       "    <tr>\n",
       "      <th>15</th>\n",
       "      <td>battery life</td>\n",
       "    </tr>\n",
       "    <tr>\n",
       "      <th>16</th>\n",
       "      <td>a huge improvement in battery life up to 20 ho...</td>\n",
       "    </tr>\n",
       "    <tr>\n",
       "      <th>17</th>\n",
       "      <td>battery life</td>\n",
       "    </tr>\n",
       "    <tr>\n",
       "      <th>18</th>\n",
       "      <td>a huge improvement in battery life up to 20 ho...</td>\n",
       "    </tr>\n",
       "    <tr>\n",
       "      <th>19</th>\n",
       "      <td>battery life</td>\n",
       "    </tr>\n",
       "  </tbody>\n",
       "</table>\n",
       "</div>"
      ],
      "text/plain": [
       "                                                 Text\n",
       "0   a huge improvement in battery life up to 20 ho...\n",
       "1                                        battery life\n",
       "2   a huge improvement in battery life up to 20 ho...\n",
       "3                                        battery life\n",
       "4   a huge improvement in battery life up to 20 ho...\n",
       "5                                        battery life\n",
       "6   a huge improvement in battery life up to 20 ho...\n",
       "7                                        battery life\n",
       "8   a huge improvement in battery life up to 20 ho...\n",
       "9                                        battery life\n",
       "10  a huge improvement in battery life up to 20 ho...\n",
       "11                                       battery life\n",
       "12  a huge improvement in battery life up to 20 ho...\n",
       "13                                       battery life\n",
       "14  a huge improvement in battery life up to 20 ho...\n",
       "15                                       battery life\n",
       "16  a huge improvement in battery life up to 20 ho...\n",
       "17                                       battery life\n",
       "18  a huge improvement in battery life up to 20 ho...\n",
       "19                                       battery life"
      ]
     },
     "execution_count": 9,
     "metadata": {},
     "output_type": "execute_result"
    }
   ],
   "source": [
    "#converting dict to panda table\n",
    "\n",
    "df_dict = {}\n",
    "for aspect in reviews_perFeature:\n",
    "    tempdict= {}\n",
    "    tempdict['Text'] = reviews_perFeature[aspect]\n",
    "    temp_df = pd.DataFrame(tempdict)\n",
    "    df_dict[aspect] = temp_df\n",
    "    \n",
    "df_dict['battery']"
   ]
  },
  {
   "cell_type": "code",
   "execution_count": 10,
   "metadata": {},
   "outputs": [],
   "source": [
    "#Sentiment analysis\n",
    "\n",
    "# Fetching the labelled data and training the classifier\n",
    "train_data_file_name = 'train_data.csv'\n",
    "\n",
    "\n",
    "train_data_df = pd.read_csv(train_data_file_name, encoding = \"ISO-8859-13\")\n",
    "train_data_df.columns = [\"Text\",\"Sentiment\"]"
   ]
  },
  {
   "cell_type": "code",
   "execution_count": 11,
   "metadata": {},
   "outputs": [],
   "source": [
    "# Stemming, tokenizing and vectorizing the features\n",
    "stemmer = pstemmer\n",
    "def stem_tokens(tokens, stemmer):\n",
    "    stemmed = []\n",
    "    for item in tokens:\n",
    "        stemmed.append(stemmer.stem(item))\n",
    "    return stemmed\n",
    "\n",
    "def tokenize(text):\n",
    "    # remove non letters\n",
    "    text = re.sub(\"[^a-zA-Z]\", \" \", text)\n",
    "    # tokenize\n",
    "    tokens = nltk.word_tokenize(text)\n",
    "    # stem\n",
    "    stems = stem_tokens(tokens, stemmer)\n",
    "    return stems\n",
    "\n",
    "# vectorizer = CountVectorizer(\n",
    "#     analyzer = 'word', # Assigning analyzer as word\n",
    "#     tokenizer = tokenize,\n",
    "#     lowercase = True, # Lowercasing the words\n",
    "#     stop_words = 'english', # For removing stop words from being considered as features\n",
    "#     ngram_range = (1,3), # Allowing unigrams, bigrams, and trigrams to be considered as features\n",
    "#     max_features = 50 # Using the top 1000 features\n",
    "# )\n",
    "\n",
    "vectorizer = TfidfVectorizer(\n",
    "    analyzer = 'word',\n",
    "    min_df=1,\n",
    "    tokenizer = tokenize,\n",
    "    lowercase = True,\n",
    "    stop_words = 'english',\n",
    "    ngram_range = (1,3),\n",
    "    max_features = 1000\n",
    ")"
   ]
  },
  {
   "cell_type": "code",
   "execution_count": 12,
   "metadata": {},
   "outputs": [
    {
     "name": "stderr",
     "output_type": "stream",
     "text": [
      "/home/rishiawsm/anaconda3/lib/python3.7/site-packages/sklearn/feature_extraction/text.py:385: UserWarning: Your stop_words may be inconsistent with your preprocessing. Tokenizing the stop words generated tokens ['abov', 'afterward', 'alon', 'alreadi', 'alway', 'ani', 'anoth', 'anyon', 'anyth', 'anywher', 'becam', 'becaus', 'becom', 'befor', 'besid', 'cri', 'describ', 'dure', 'els', 'elsewher', 'empti', 'everi', 'everyon', 'everyth', 'everywher', 'fifti', 'formerli', 'forti', 'ha', 'henc', 'hereaft', 'herebi', 'hi', 'howev', 'hundr', 'inde', 'latterli', 'mani', 'meanwhil', 'moreov', 'mostli', 'nobodi', 'noon', 'noth', 'nowher', 'onc', 'onli', 'otherwis', 'ourselv', 'perhap', 'pleas', 'seriou', 'sever', 'sinc', 'sincer', 'sixti', 'someon', 'someth', 'sometim', 'somewher', 'themselv', 'thenc', 'thereaft', 'therebi', 'therefor', 'thi', 'thu', 'togeth', 'twelv', 'twenti', 'veri', 'wa', 'whatev', 'whenc', 'whenev', 'wherea', 'whereaft', 'wherebi', 'wherev', 'whi', 'yourselv'] not in stop_words.\n",
      "  'stop_words.' % sorted(inconsistent))\n"
     ]
    }
   ],
   "source": [
    "# Extracting the features from training data\n",
    "corpus_data_features = vectorizer.fit_transform(train_data_df.Text.tolist())"
   ]
  },
  {
   "cell_type": "code",
   "execution_count": 13,
   "metadata": {},
   "outputs": [],
   "source": [
    "# Feature to array\n",
    "corpus_data_features_nd = corpus_data_features.toarray()\n",
    "corpus_data_features_nd.shape\n",
    "\n",
    "# Removing features with less than 3 characters\n",
    "vocab = vectorizer.get_feature_names()\n",
    "vocab = [word.lower() for word in vocab if len(word) > 2]"
   ]
  },
  {
   "cell_type": "code",
   "execution_count": 14,
   "metadata": {},
   "outputs": [],
   "source": [
    "# remember that corpus_data_features_nd contains all of our \n",
    "# original train and test data, so we need to exclude\n",
    "# the unlabeled test entries\n",
    "\n",
    "X_train, X_dev, y_train, y_dev  = train_test_split(\n",
    "        corpus_data_features_nd, \n",
    "        train_data_df.Sentiment,\n",
    "        train_size=0.99, \n",
    "        random_state=1234)"
   ]
  },
  {
   "cell_type": "code",
   "execution_count": 15,
   "metadata": {},
   "outputs": [],
   "source": [
    "# Training the classifier on the whole training data available\n",
    "rf_model = RandomForestClassifier(n_estimators=1000)\n",
    "rf_model = rf_model.fit(X=corpus_data_features_nd, y=train_data_df.Sentiment)"
   ]
  },
  {
   "cell_type": "code",
   "execution_count": 16,
   "metadata": {},
   "outputs": [],
   "source": [
    "# Performing predictions on the dev set\n",
    "\n",
    "predictions_dict = {}\n",
    "for feature in df_dict:\n",
    "    test_data_df = df_dict[feature]\n",
    "    corpus_data_features_test_vector = vectorizer.transform(test_data_df.Text.tolist())\n",
    "    corpus_data_features_test = corpus_data_features_test_vector.toarray()\n",
    "        \n",
    "    test_log_pred = rf_model.predict(corpus_data_features_test)\n",
    "    predictions_dict[feature] = test_log_pred"
   ]
  },
  {
   "cell_type": "code",
   "execution_count": 17,
   "metadata": {},
   "outputs": [
    {
     "data": {
      "text/plain": [
       "{'camera': array([1, 1, 1, 0, 0, 1, 1, 1, 0, 0, 1, 1, 1, 0, 0, 1, 1, 1, 0, 0, 1, 1,\n",
       "        1, 0, 0, 1, 1, 1, 0, 0, 1, 1, 1, 0, 0, 1, 1, 1, 0, 0, 1, 1, 1, 0,\n",
       "        0, 1, 1, 1, 0, 0]),\n",
       " 'phone': array([ 1, -1,  0, -1, -1, -1,  0,  1, -1,  0,  1,  1, -1,  0, -1, -1, -1,\n",
       "         0,  1, -1,  0,  1,  1, -1,  0, -1, -1, -1,  0,  1, -1,  0,  1,  1,\n",
       "        -1,  0, -1, -1, -1,  0,  1, -1,  0,  1,  1, -1,  0, -1, -1, -1,  0,\n",
       "         1, -1,  0,  1,  1, -1,  0, -1, -1, -1,  0,  1, -1,  0,  1,  1, -1,\n",
       "         0, -1, -1, -1,  0,  1, -1,  0,  1,  1, -1,  0, -1, -1, -1,  0,  1,\n",
       "        -1,  0,  1,  1, -1,  0, -1, -1, -1,  0,  1, -1,  0,  1,  1, -1,  0,\n",
       "        -1, -1, -1,  0,  1, -1,  0,  1]),\n",
       " 'battery': array([-1,  1, -1,  1, -1,  1, -1,  1, -1,  1, -1,  1, -1,  1, -1,  1, -1,\n",
       "         1, -1,  1]),\n",
       " 'display': array([0, 1, 0, 0, 1, 0, 1, 0, 0, 1, 0, 1, 0, 0, 1, 0, 1, 0, 0, 1, 0, 1,\n",
       "        0, 0, 1, 0, 1, 0, 0, 1, 0, 1, 0, 0, 1, 0, 1, 0, 0, 1, 0, 1, 0, 0,\n",
       "        1, 0, 1, 0, 0, 1]),\n",
       " 'device': array([0, 0, 0, 0, 0, 0, 0, 0, 0, 0]),\n",
       " 'system': array([1, 1, 1, 1, 1, 1, 1, 1, 1, 1]),\n",
       " 'button': array([-1, -1, -1, -1, -1, -1, -1, -1, -1, -1]),\n",
       " 'box': array([1, 1, 1, 1, 1, 1, 1, 1, 1, 1])}"
      ]
     },
     "execution_count": 17,
     "metadata": {},
     "output_type": "execute_result"
    }
   ],
   "source": [
    "predictions_dict"
   ]
  },
  {
   "cell_type": "code",
   "execution_count": 18,
   "metadata": {},
   "outputs": [],
   "source": [
    "def plot_Results(predictions_dict):\n",
    "    # Variables for Product Attributes\n",
    "    attr_list = []\n",
    "    \n",
    "    #Variables for device\n",
    "    overall_list = []\n",
    "    \n",
    "    # Defining dictionaries for storing counts for overall device sentiment\n",
    "    overall_dict = {'No Of Positive mentions' : 0, 'No Of Negative mentions' : 0}\n",
    "            \n",
    "    # Assigning index name to dictionaries for overall counts\n",
    "    overall_dict['Aspect'] = 'device'\n",
    "    \n",
    "    for aspect in predictions_dict:\n",
    "        if aspect not in ['phone', 'device', 'cell', 'smartphone', 'telephone', 'mobile']:\n",
    "\n",
    "            # Defining dictionaries for storing counts\n",
    "            attr_dict = {'No Of Positive mentions' : 0, 'No Of Neutral mentions' : 0, \n",
    "                                 'No Of Negative mentions' : 0}\n",
    "            \n",
    "            # Assigning index name\n",
    "            attr_dict['Aspect'] = aspect\n",
    "            \n",
    "            # Calculating counts of different sentiments\n",
    "            list_counter = predictions_dict[aspect]\n",
    "            count = Counter(list_counter)\n",
    "            \n",
    "            # Storing the counts in the dictionaries\n",
    "            if 1 in count:\n",
    "                attr_dict['No Of Positive mentions'] = count[1]\n",
    "                \n",
    "            if 0 in count:\n",
    "                attr_dict['No Of Neutral mentions'] = count[0] \n",
    "                \n",
    "            if -1 in count:\n",
    "                attr_dict['No Of Negative mentions'] = count[-1]\n",
    "            \n",
    "            # Appending dictionaries to lists for easier dataframe manipulation\n",
    "            attr_list.append(attr_dict)\n",
    "            \n",
    "        else :\n",
    "            # Calculating counts of different sentiments for the product\n",
    "            list_counter = predictions_dict[aspect]\n",
    "            count = Counter(list_counter)\n",
    "            \n",
    "            if 1 in count:\n",
    "                overall_dict['No Of Positive mentions'] += count[1]\n",
    "               \n",
    "            # Commenting out code for the 'maybe' sentiment\n",
    "#             if 0 in count:\n",
    "#                 overall_dict['No Of Neutral mentions'] += count[0]\n",
    "            \n",
    "            if -1 in count:\n",
    "                overall_dict['No Of Negative mentions'] += count[-1]\n",
    "    \n",
    "    # Appending dictionaries to lists for easier dataframe manipulation\n",
    "    overall_list.append(overall_dict)\n",
    "\n",
    "    # For overall product\n",
    "    df_overall = pd.DataFrame(overall_list)\n",
    "    df_overall_final= df_overall.set_index('Aspect')\n",
    "    \n",
    "    #For printing the re-call table for attributes\n",
    "    df_attr = pd.DataFrame(attr_list)\n",
    "    df_attr_final = df_attr.set_index(\"Aspect\")\n",
    "    \n",
    "    print(\"----------------------\")\n",
    "    print(\"Apsects and number of related phrases for Iphone 11Pro\")\n",
    "    print(\"----------------------\")\n",
    "    \n",
    "    display(df_attr_final)\n",
    "    \n",
    "    print(\"\\n----------------------\")\n",
    "    print(\"Graph of sentiments for different attributes\")\n",
    "    print(\"----------------------\")\n",
    "    df_attr_final.plot(kind='bar', color=['g','b','r'],figsize=(12, 10))\n",
    "    plt.savefig(\"iphone11pro.png\")\n",
    "    df_attr_final.to_csv('attr_df.csv')"
   ]
  },
  {
   "cell_type": "code",
   "execution_count": 19,
   "metadata": {},
   "outputs": [
    {
     "name": "stdout",
     "output_type": "stream",
     "text": [
      "----------------------\n",
      "Apsects and number of related phrases for Iphone 11Pro\n",
      "----------------------\n"
     ]
    },
    {
     "data": {
      "text/html": [
       "<div>\n",
       "<style scoped>\n",
       "    .dataframe tbody tr th:only-of-type {\n",
       "        vertical-align: middle;\n",
       "    }\n",
       "\n",
       "    .dataframe tbody tr th {\n",
       "        vertical-align: top;\n",
       "    }\n",
       "\n",
       "    .dataframe thead th {\n",
       "        text-align: right;\n",
       "    }\n",
       "</style>\n",
       "<table border=\"1\" class=\"dataframe\">\n",
       "  <thead>\n",
       "    <tr style=\"text-align: right;\">\n",
       "      <th></th>\n",
       "      <th>No Of Positive mentions</th>\n",
       "      <th>No Of Neutral mentions</th>\n",
       "      <th>No Of Negative mentions</th>\n",
       "    </tr>\n",
       "    <tr>\n",
       "      <th>Aspect</th>\n",
       "      <th></th>\n",
       "      <th></th>\n",
       "      <th></th>\n",
       "    </tr>\n",
       "  </thead>\n",
       "  <tbody>\n",
       "    <tr>\n",
       "      <th>camera</th>\n",
       "      <td>30</td>\n",
       "      <td>20</td>\n",
       "      <td>0</td>\n",
       "    </tr>\n",
       "    <tr>\n",
       "      <th>battery</th>\n",
       "      <td>10</td>\n",
       "      <td>0</td>\n",
       "      <td>10</td>\n",
       "    </tr>\n",
       "    <tr>\n",
       "      <th>display</th>\n",
       "      <td>20</td>\n",
       "      <td>30</td>\n",
       "      <td>0</td>\n",
       "    </tr>\n",
       "    <tr>\n",
       "      <th>system</th>\n",
       "      <td>10</td>\n",
       "      <td>0</td>\n",
       "      <td>0</td>\n",
       "    </tr>\n",
       "    <tr>\n",
       "      <th>button</th>\n",
       "      <td>0</td>\n",
       "      <td>0</td>\n",
       "      <td>10</td>\n",
       "    </tr>\n",
       "    <tr>\n",
       "      <th>box</th>\n",
       "      <td>10</td>\n",
       "      <td>0</td>\n",
       "      <td>0</td>\n",
       "    </tr>\n",
       "  </tbody>\n",
       "</table>\n",
       "</div>"
      ],
      "text/plain": [
       "         No Of Positive mentions  No Of Neutral mentions  \\\n",
       "Aspect                                                     \n",
       "camera                        30                      20   \n",
       "battery                       10                       0   \n",
       "display                       20                      30   \n",
       "system                        10                       0   \n",
       "button                         0                       0   \n",
       "box                           10                       0   \n",
       "\n",
       "         No Of Negative mentions  \n",
       "Aspect                            \n",
       "camera                         0  \n",
       "battery                       10  \n",
       "display                        0  \n",
       "system                         0  \n",
       "button                        10  \n",
       "box                            0  "
      ]
     },
     "metadata": {},
     "output_type": "display_data"
    },
    {
     "name": "stdout",
     "output_type": "stream",
     "text": [
      "\n",
      "----------------------\n",
      "Graph of sentiments for different attributes\n",
      "----------------------\n"
     ]
    },
    {
     "data": {
      "image/png": "[encoded data removed]",
      "text/plain": [
       "<Figure size 864x720 with 1 Axes>"
      ]
     },
     "metadata": {
      "needs_background": "light"
     },
     "output_type": "display_data"
    }
   ],
   "source": [
    "plot_Results(predictions_dict)"
   ]
  },
  {
   "cell_type": "code",
   "execution_count": null,
   "metadata": {},
   "outputs": [],
   "source": []
  }
 ],
 "metadata": {
  "kernelspec": {
   "display_name": "Python 3",
   "language": "python",
   "name": "python3"
  },
  "language_info": {
   "codemirror_mode": {
    "name": "ipython",
    "version": 3
   },
   "file_extension": ".py",
   "mimetype": "text/x-python",
   "name": "python",
   "nbconvert_exporter": "python",
   "pygments_lexer": "ipython3",
   "version": "3.7.4"
  }
 },
 "nbformat": 4,
 "nbformat_minor": 4
}
